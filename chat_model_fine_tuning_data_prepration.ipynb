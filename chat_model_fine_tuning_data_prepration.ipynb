{
  "nbformat": 4,
  "nbformat_minor": 0,
  "metadata": {
    "colab": {
      "provenance": [],
      "gpuType": "T4"
    },
    "kernelspec": {
      "name": "python3",
      "display_name": "Python 3"
    },
    "language_info": {
      "name": "python"
    },
    "accelerator": "GPU"
  },
  "cells": [
    {
      "cell_type": "code",
      "source": [
        "import dask.dataframe as dd\n",
        "\n",
        "# Login using e.g. `huggingface-cli login` to access this dataset\n",
        "df = dd.read_parquet(\"hf://datasets/TomData/telegram-filtered-messages/data/train-*.parquet\")"
      ],
      "metadata": {
        "id": "Z8jO6zl4-5BR"
      },
      "execution_count": null,
      "outputs": []
    },
    {
      "cell_type": "code",
      "source": [
        "df.head()"
      ],
      "metadata": {
        "colab": {
          "base_uri": "https://localhost:8080/",
          "height": 293
        },
        "id": "Qw2NmlhE-82V",
        "outputId": "95b82f50-bd6c-406d-fe78-720d2c36e58f"
      },
      "execution_count": null,
      "outputs": [
        {
          "output_type": "execute_result",
          "data": {
            "text/plain": [
              "                            sentence_id  \\\n",
              "0  71ed70ba-60de-4495-a104-c10934f27297   \n",
              "1  9c78a102-56dc-4678-b2c0-e47fb7572d88   \n",
              "2  a563d4cb-67e2-49cf-a64d-1082911a4114   \n",
              "3  e7274296-1103-4916-9713-56ea617a725f   \n",
              "4  8e91a3ab-006e-4a17-9578-55ad76e16e98   \n",
              "\n",
              "                                            sentence  channel_id  \\\n",
              "0  The people who claim to hear the Northern Ligh...  1464907295   \n",
              "1  Tyr’s Appearance Has Huge Implications for God...  1464907295   \n",
              "2  Europe’s oldest map shows tiny Bronze Age king...  1464907295   \n",
              "3  Scientists discover ‘world’s northernmost isla...  1464907295   \n",
              "4                     9 Bronze Age Weapons | HISTORY  1464907295   \n",
              "\n",
              "                             message_id lang_mask  __index_level_0__  \n",
              "0  f295f749-e545-461d-a7b7-91ef67ed4ddd        en                  8  \n",
              "1  e45c3d10-abcd-4894-97aa-778007df5a66        en                 11  \n",
              "2  78df3bde-5263-4911-ad24-6d85705d4f74        en                 13  \n",
              "3  5e174b5b-783c-4e33-bc51-0c54b2292d85        en                 15  \n",
              "4  75120b28-d447-4de6-9213-25a4207f7a19    non-en                 18  "
            ],
            "text/html": [
              "\n",
              "  <div id=\"df-a71b28f5-48d0-4676-958c-66af0394473a\" class=\"colab-df-container\">\n",
              "    <div>\n",
              "<style scoped>\n",
              "    .dataframe tbody tr th:only-of-type {\n",
              "        vertical-align: middle;\n",
              "    }\n",
              "\n",
              "    .dataframe tbody tr th {\n",
              "        vertical-align: top;\n",
              "    }\n",
              "\n",
              "    .dataframe thead th {\n",
              "        text-align: right;\n",
              "    }\n",
              "</style>\n",
              "<table border=\"1\" class=\"dataframe\">\n",
              "  <thead>\n",
              "    <tr style=\"text-align: right;\">\n",
              "      <th></th>\n",
              "      <th>sentence_id</th>\n",
              "      <th>sentence</th>\n",
              "      <th>channel_id</th>\n",
              "      <th>message_id</th>\n",
              "      <th>lang_mask</th>\n",
              "      <th>__index_level_0__</th>\n",
              "    </tr>\n",
              "  </thead>\n",
              "  <tbody>\n",
              "    <tr>\n",
              "      <th>0</th>\n",
              "      <td>71ed70ba-60de-4495-a104-c10934f27297</td>\n",
              "      <td>The people who claim to hear the Northern Ligh...</td>\n",
              "      <td>1464907295</td>\n",
              "      <td>f295f749-e545-461d-a7b7-91ef67ed4ddd</td>\n",
              "      <td>en</td>\n",
              "      <td>8</td>\n",
              "    </tr>\n",
              "    <tr>\n",
              "      <th>1</th>\n",
              "      <td>9c78a102-56dc-4678-b2c0-e47fb7572d88</td>\n",
              "      <td>Tyr’s Appearance Has Huge Implications for God...</td>\n",
              "      <td>1464907295</td>\n",
              "      <td>e45c3d10-abcd-4894-97aa-778007df5a66</td>\n",
              "      <td>en</td>\n",
              "      <td>11</td>\n",
              "    </tr>\n",
              "    <tr>\n",
              "      <th>2</th>\n",
              "      <td>a563d4cb-67e2-49cf-a64d-1082911a4114</td>\n",
              "      <td>Europe’s oldest map shows tiny Bronze Age king...</td>\n",
              "      <td>1464907295</td>\n",
              "      <td>78df3bde-5263-4911-ad24-6d85705d4f74</td>\n",
              "      <td>en</td>\n",
              "      <td>13</td>\n",
              "    </tr>\n",
              "    <tr>\n",
              "      <th>3</th>\n",
              "      <td>e7274296-1103-4916-9713-56ea617a725f</td>\n",
              "      <td>Scientists discover ‘world’s northernmost isla...</td>\n",
              "      <td>1464907295</td>\n",
              "      <td>5e174b5b-783c-4e33-bc51-0c54b2292d85</td>\n",
              "      <td>en</td>\n",
              "      <td>15</td>\n",
              "    </tr>\n",
              "    <tr>\n",
              "      <th>4</th>\n",
              "      <td>8e91a3ab-006e-4a17-9578-55ad76e16e98</td>\n",
              "      <td>9 Bronze Age Weapons | HISTORY</td>\n",
              "      <td>1464907295</td>\n",
              "      <td>75120b28-d447-4de6-9213-25a4207f7a19</td>\n",
              "      <td>non-en</td>\n",
              "      <td>18</td>\n",
              "    </tr>\n",
              "  </tbody>\n",
              "</table>\n",
              "</div>\n",
              "    <div class=\"colab-df-buttons\">\n",
              "\n",
              "  <div class=\"colab-df-container\">\n",
              "    <button class=\"colab-df-convert\" onclick=\"convertToInteractive('df-a71b28f5-48d0-4676-958c-66af0394473a')\"\n",
              "            title=\"Convert this dataframe to an interactive table.\"\n",
              "            style=\"display:none;\">\n",
              "\n",
              "  <svg xmlns=\"http://www.w3.org/2000/svg\" height=\"24px\" viewBox=\"0 -960 960 960\">\n",
              "    <path d=\"M120-120v-720h720v720H120Zm60-500h600v-160H180v160Zm220 220h160v-160H400v160Zm0 220h160v-160H400v160ZM180-400h160v-160H180v160Zm440 0h160v-160H620v160ZM180-180h160v-160H180v160Zm440 0h160v-160H620v160Z\"/>\n",
              "  </svg>\n",
              "    </button>\n",
              "\n",
              "  <style>\n",
              "    .colab-df-container {\n",
              "      display:flex;\n",
              "      gap: 12px;\n",
              "    }\n",
              "\n",
              "    .colab-df-convert {\n",
              "      background-color: #E8F0FE;\n",
              "      border: none;\n",
              "      border-radius: 50%;\n",
              "      cursor: pointer;\n",
              "      display: none;\n",
              "      fill: #1967D2;\n",
              "      height: 32px;\n",
              "      padding: 0 0 0 0;\n",
              "      width: 32px;\n",
              "    }\n",
              "\n",
              "    .colab-df-convert:hover {\n",
              "      background-color: #E2EBFA;\n",
              "      box-shadow: 0px 1px 2px rgba(60, 64, 67, 0.3), 0px 1px 3px 1px rgba(60, 64, 67, 0.15);\n",
              "      fill: #174EA6;\n",
              "    }\n",
              "\n",
              "    .colab-df-buttons div {\n",
              "      margin-bottom: 4px;\n",
              "    }\n",
              "\n",
              "    [theme=dark] .colab-df-convert {\n",
              "      background-color: #3B4455;\n",
              "      fill: #D2E3FC;\n",
              "    }\n",
              "\n",
              "    [theme=dark] .colab-df-convert:hover {\n",
              "      background-color: #434B5C;\n",
              "      box-shadow: 0px 1px 3px 1px rgba(0, 0, 0, 0.15);\n",
              "      filter: drop-shadow(0px 1px 2px rgba(0, 0, 0, 0.3));\n",
              "      fill: #FFFFFF;\n",
              "    }\n",
              "  </style>\n",
              "\n",
              "    <script>\n",
              "      const buttonEl =\n",
              "        document.querySelector('#df-a71b28f5-48d0-4676-958c-66af0394473a button.colab-df-convert');\n",
              "      buttonEl.style.display =\n",
              "        google.colab.kernel.accessAllowed ? 'block' : 'none';\n",
              "\n",
              "      async function convertToInteractive(key) {\n",
              "        const element = document.querySelector('#df-a71b28f5-48d0-4676-958c-66af0394473a');\n",
              "        const dataTable =\n",
              "          await google.colab.kernel.invokeFunction('convertToInteractive',\n",
              "                                                    [key], {});\n",
              "        if (!dataTable) return;\n",
              "\n",
              "        const docLinkHtml = 'Like what you see? Visit the ' +\n",
              "          '<a target=\"_blank\" href=https://colab.research.google.com/notebooks/data_table.ipynb>data table notebook</a>'\n",
              "          + ' to learn more about interactive tables.';\n",
              "        element.innerHTML = '';\n",
              "        dataTable['output_type'] = 'display_data';\n",
              "        await google.colab.output.renderOutput(dataTable, element);\n",
              "        const docLink = document.createElement('div');\n",
              "        docLink.innerHTML = docLinkHtml;\n",
              "        element.appendChild(docLink);\n",
              "      }\n",
              "    </script>\n",
              "  </div>\n",
              "\n",
              "\n",
              "    <div id=\"df-95269da4-c2fa-409e-98a7-3d1e165140ee\">\n",
              "      <button class=\"colab-df-quickchart\" onclick=\"quickchart('df-95269da4-c2fa-409e-98a7-3d1e165140ee')\"\n",
              "                title=\"Suggest charts\"\n",
              "                style=\"display:none;\">\n",
              "\n",
              "<svg xmlns=\"http://www.w3.org/2000/svg\" height=\"24px\"viewBox=\"0 0 24 24\"\n",
              "     width=\"24px\">\n",
              "    <g>\n",
              "        <path d=\"M19 3H5c-1.1 0-2 .9-2 2v14c0 1.1.9 2 2 2h14c1.1 0 2-.9 2-2V5c0-1.1-.9-2-2-2zM9 17H7v-7h2v7zm4 0h-2V7h2v10zm4 0h-2v-4h2v4z\"/>\n",
              "    </g>\n",
              "</svg>\n",
              "      </button>\n",
              "\n",
              "<style>\n",
              "  .colab-df-quickchart {\n",
              "      --bg-color: #E8F0FE;\n",
              "      --fill-color: #1967D2;\n",
              "      --hover-bg-color: #E2EBFA;\n",
              "      --hover-fill-color: #174EA6;\n",
              "      --disabled-fill-color: #AAA;\n",
              "      --disabled-bg-color: #DDD;\n",
              "  }\n",
              "\n",
              "  [theme=dark] .colab-df-quickchart {\n",
              "      --bg-color: #3B4455;\n",
              "      --fill-color: #D2E3FC;\n",
              "      --hover-bg-color: #434B5C;\n",
              "      --hover-fill-color: #FFFFFF;\n",
              "      --disabled-bg-color: #3B4455;\n",
              "      --disabled-fill-color: #666;\n",
              "  }\n",
              "\n",
              "  .colab-df-quickchart {\n",
              "    background-color: var(--bg-color);\n",
              "    border: none;\n",
              "    border-radius: 50%;\n",
              "    cursor: pointer;\n",
              "    display: none;\n",
              "    fill: var(--fill-color);\n",
              "    height: 32px;\n",
              "    padding: 0;\n",
              "    width: 32px;\n",
              "  }\n",
              "\n",
              "  .colab-df-quickchart:hover {\n",
              "    background-color: var(--hover-bg-color);\n",
              "    box-shadow: 0 1px 2px rgba(60, 64, 67, 0.3), 0 1px 3px 1px rgba(60, 64, 67, 0.15);\n",
              "    fill: var(--button-hover-fill-color);\n",
              "  }\n",
              "\n",
              "  .colab-df-quickchart-complete:disabled,\n",
              "  .colab-df-quickchart-complete:disabled:hover {\n",
              "    background-color: var(--disabled-bg-color);\n",
              "    fill: var(--disabled-fill-color);\n",
              "    box-shadow: none;\n",
              "  }\n",
              "\n",
              "  .colab-df-spinner {\n",
              "    border: 2px solid var(--fill-color);\n",
              "    border-color: transparent;\n",
              "    border-bottom-color: var(--fill-color);\n",
              "    animation:\n",
              "      spin 1s steps(1) infinite;\n",
              "  }\n",
              "\n",
              "  @keyframes spin {\n",
              "    0% {\n",
              "      border-color: transparent;\n",
              "      border-bottom-color: var(--fill-color);\n",
              "      border-left-color: var(--fill-color);\n",
              "    }\n",
              "    20% {\n",
              "      border-color: transparent;\n",
              "      border-left-color: var(--fill-color);\n",
              "      border-top-color: var(--fill-color);\n",
              "    }\n",
              "    30% {\n",
              "      border-color: transparent;\n",
              "      border-left-color: var(--fill-color);\n",
              "      border-top-color: var(--fill-color);\n",
              "      border-right-color: var(--fill-color);\n",
              "    }\n",
              "    40% {\n",
              "      border-color: transparent;\n",
              "      border-right-color: var(--fill-color);\n",
              "      border-top-color: var(--fill-color);\n",
              "    }\n",
              "    60% {\n",
              "      border-color: transparent;\n",
              "      border-right-color: var(--fill-color);\n",
              "    }\n",
              "    80% {\n",
              "      border-color: transparent;\n",
              "      border-right-color: var(--fill-color);\n",
              "      border-bottom-color: var(--fill-color);\n",
              "    }\n",
              "    90% {\n",
              "      border-color: transparent;\n",
              "      border-bottom-color: var(--fill-color);\n",
              "    }\n",
              "  }\n",
              "</style>\n",
              "\n",
              "      <script>\n",
              "        async function quickchart(key) {\n",
              "          const quickchartButtonEl =\n",
              "            document.querySelector('#' + key + ' button');\n",
              "          quickchartButtonEl.disabled = true;  // To prevent multiple clicks.\n",
              "          quickchartButtonEl.classList.add('colab-df-spinner');\n",
              "          try {\n",
              "            const charts = await google.colab.kernel.invokeFunction(\n",
              "                'suggestCharts', [key], {});\n",
              "          } catch (error) {\n",
              "            console.error('Error during call to suggestCharts:', error);\n",
              "          }\n",
              "          quickchartButtonEl.classList.remove('colab-df-spinner');\n",
              "          quickchartButtonEl.classList.add('colab-df-quickchart-complete');\n",
              "        }\n",
              "        (() => {\n",
              "          let quickchartButtonEl =\n",
              "            document.querySelector('#df-95269da4-c2fa-409e-98a7-3d1e165140ee button');\n",
              "          quickchartButtonEl.style.display =\n",
              "            google.colab.kernel.accessAllowed ? 'block' : 'none';\n",
              "        })();\n",
              "      </script>\n",
              "    </div>\n",
              "\n",
              "    </div>\n",
              "  </div>\n"
            ],
            "application/vnd.google.colaboratory.intrinsic+json": {
              "type": "dataframe",
              "summary": "{\n  \"name\": \"df\",\n  \"rows\": 5,\n  \"fields\": [\n    {\n      \"column\": \"sentence_id\",\n      \"properties\": {\n        \"dtype\": \"string\",\n        \"num_unique_values\": 5,\n        \"samples\": [\n          \"9c78a102-56dc-4678-b2c0-e47fb7572d88\",\n          \"8e91a3ab-006e-4a17-9578-55ad76e16e98\",\n          \"a563d4cb-67e2-49cf-a64d-1082911a4114\"\n        ],\n        \"semantic_type\": \"\",\n        \"description\": \"\"\n      }\n    },\n    {\n      \"column\": \"sentence\",\n      \"properties\": {\n        \"dtype\": \"string\",\n        \"num_unique_values\": 5,\n        \"samples\": [\n          \"Tyr\\u2019s Appearance Has Huge Implications for God of War\\u2019s Story\",\n          \"9 Bronze Age Weapons | HISTORY\",\n          \"Europe\\u2019s oldest map shows tiny Bronze Age kingdom - Big Think\"\n        ],\n        \"semantic_type\": \"\",\n        \"description\": \"\"\n      }\n    },\n    {\n      \"column\": \"channel_id\",\n      \"properties\": {\n        \"dtype\": \"number\",\n        \"std\": 0,\n        \"min\": 1464907295,\n        \"max\": 1464907295,\n        \"num_unique_values\": 1,\n        \"samples\": [\n          1464907295\n        ],\n        \"semantic_type\": \"\",\n        \"description\": \"\"\n      }\n    },\n    {\n      \"column\": \"message_id\",\n      \"properties\": {\n        \"dtype\": \"string\",\n        \"num_unique_values\": 5,\n        \"samples\": [\n          \"e45c3d10-abcd-4894-97aa-778007df5a66\"\n        ],\n        \"semantic_type\": \"\",\n        \"description\": \"\"\n      }\n    },\n    {\n      \"column\": \"lang_mask\",\n      \"properties\": {\n        \"dtype\": \"string\",\n        \"num_unique_values\": 2,\n        \"samples\": [\n          \"non-en\"\n        ],\n        \"semantic_type\": \"\",\n        \"description\": \"\"\n      }\n    },\n    {\n      \"column\": \"__index_level_0__\",\n      \"properties\": {\n        \"dtype\": \"number\",\n        \"std\": 3,\n        \"min\": 8,\n        \"max\": 18,\n        \"num_unique_values\": 5,\n        \"samples\": [\n          11\n        ],\n        \"semantic_type\": \"\",\n        \"description\": \"\"\n      }\n    }\n  ]\n}"
            }
          },
          "metadata": {},
          "execution_count": 2
        }
      ]
    },
    {
      "cell_type": "code",
      "source": [
        "df.shape"
      ],
      "metadata": {
        "colab": {
          "base_uri": "https://localhost:8080/"
        },
        "id": "GrL1IuDS_Doi",
        "outputId": "3d04f0d6-82d0-4de4-ae09-db2668a4c036"
      },
      "execution_count": null,
      "outputs": [
        {
          "output_type": "execute_result",
          "data": {
            "text/plain": [
              "(<dask_expr.expr.Scalar: expr=ReadParquetFSSpec(df884b9).size() // 6, dtype=int64>,\n",
              " 6)"
            ]
          },
          "metadata": {},
          "execution_count": 5
        }
      ]
    },
    {
      "cell_type": "code",
      "source": [
        "total_rows = df.shape[0].compute()\n",
        "ten_percent = int(0.01 * total_rows)"
      ],
      "metadata": {
        "id": "sNCViafgDAb6"
      },
      "execution_count": null,
      "outputs": []
    },
    {
      "cell_type": "code",
      "source": [],
      "metadata": {
        "id": "gFRSPY3lDWYf"
      },
      "execution_count": null,
      "outputs": []
    },
    {
      "cell_type": "code",
      "source": [
        "df_sample = df.head(ten_percent)"
      ],
      "metadata": {
        "id": "ZUg6X17ODD3K"
      },
      "execution_count": null,
      "outputs": []
    },
    {
      "cell_type": "code",
      "source": [
        "df.info()"
      ],
      "metadata": {
        "colab": {
          "base_uri": "https://localhost:8080/"
        },
        "id": "EgGCHRHg_Pky",
        "outputId": "410576f0-7130-4b84-be02-73d267403d04"
      },
      "execution_count": null,
      "outputs": [
        {
          "output_type": "stream",
          "name": "stdout",
          "text": [
            "<class 'dask.dataframe.dask_expr.DataFrame'>\n",
            "Columns: 6 entries, sentence_id to __index_level_0__\n",
            "dtypes: int64(2), string(4)"
          ]
        }
      ]
    },
    {
      "cell_type": "code",
      "source": [
        "unique_sentence_ids = df_sample['sentence_id'].nunique()\n",
        "print(\"Unique sentence IDs:\", unique_sentence_ids)"
      ],
      "metadata": {
        "colab": {
          "base_uri": "https://localhost:8080/"
        },
        "id": "mB16ilWZ_X0N",
        "outputId": "320c968b-256d-4c97-87b7-6901ddacfbd4"
      },
      "execution_count": null,
      "outputs": [
        {
          "output_type": "stream",
          "name": "stdout",
          "text": [
            "Unique sentence IDs: 98849\n"
          ]
        }
      ]
    },
    {
      "cell_type": "code",
      "source": [
        "unique_lang_mask = df_sample['lang_mask'].nunique()\n",
        "print(\"Unique sentence IDs:\", unique_lang_mask)"
      ],
      "metadata": {
        "colab": {
          "base_uri": "https://localhost:8080/"
        },
        "id": "A2Bhmz-JPozt",
        "outputId": "161765da-9dce-4a70-d0ff-fe5776572b80"
      },
      "execution_count": null,
      "outputs": [
        {
          "output_type": "stream",
          "name": "stdout",
          "text": [
            "Unique sentence IDs: 3\n"
          ]
        }
      ]
    },
    {
      "cell_type": "code",
      "source": [
        "unique_channel_ids = df_sample['channel_id'].nunique()\n",
        "print(\"Unique channel IDs:\", unique_channel_ids)"
      ],
      "metadata": {
        "colab": {
          "base_uri": "https://localhost:8080/"
        },
        "id": "fgsx1V92Bva2",
        "outputId": "a6423d14-ec7d-4791-9053-7cbee61d3a94"
      },
      "execution_count": null,
      "outputs": [
        {
          "output_type": "stream",
          "name": "stdout",
          "text": [
            "Unique channel IDs: 41\n"
          ]
        }
      ]
    },
    {
      "cell_type": "code",
      "source": [
        "unique_message_ids = df_sample['message_id'].nunique()\n",
        "print(\"Unique message_id\ts:\", unique_message_ids)"
      ],
      "metadata": {
        "colab": {
          "base_uri": "https://localhost:8080/"
        },
        "id": "LfCJQ1LEDjfh",
        "outputId": "e18b9bc0-2be5-4f7f-b73d-c61668f4ca84"
      },
      "execution_count": null,
      "outputs": [
        {
          "output_type": "stream",
          "name": "stdout",
          "text": [
            "Unique message_id\ts: 53611\n"
          ]
        }
      ]
    },
    {
      "cell_type": "code",
      "source": [
        "df = df_sample.sort_values(\"message_id\")"
      ],
      "metadata": {
        "id": "qQcVY4bnFyn8"
      },
      "execution_count": null,
      "outputs": []
    },
    {
      "cell_type": "code",
      "source": [
        "chat_tokens = []"
      ],
      "metadata": {
        "id": "nOlxVDP_K9L4"
      },
      "execution_count": null,
      "outputs": []
    },
    {
      "cell_type": "code",
      "source": [
        "chat_tokens.extend([\n",
        "    {\"token\": \"<|im_start|>\"},\n",
        "    \"system\\nYou are ChatGPT, a large language model trained by OpenAI. Answer as concisely as possible.\\nKnowledge cutoff: 2021-09-01\\nCurrent date: 2023-03-01\",\n",
        "    {\"token\": \"<|im_end|>\"},\n",
        "    \"\\n\"\n",
        "])"
      ],
      "metadata": {
        "id": "fVIrWrvILiIi"
      },
      "execution_count": null,
      "outputs": []
    },
    {
      "cell_type": "code",
      "source": [
        "roles = [\"user\", \"assistant\"]"
      ],
      "metadata": {
        "id": "r7f2GhuBLnD5"
      },
      "execution_count": null,
      "outputs": []
    },
    {
      "cell_type": "code",
      "source": [
        "for i, row in enumerate(df.itertuples()):\n",
        "    role = roles[i % 2]\n",
        "    sentence = str(row.sentence).strip()\n",
        "    if not sentence:\n",
        "        continue\n",
        "    chat_tokens.extend([\n",
        "        {\"token\": \"<|im_start|>\"},\n",
        "        f\"{role}\\n{sentence}\",\n",
        "        {\"token\": \"<|im_end|>\"},\n",
        "        \"\\n\"\n",
        "    ])"
      ],
      "metadata": {
        "id": "g5DzzDZ_Lo_W"
      },
      "execution_count": null,
      "outputs": []
    },
    {
      "cell_type": "code",
      "source": [
        "import json"
      ],
      "metadata": {
        "id": "PEEN24zrLyfK"
      },
      "execution_count": null,
      "outputs": []
    },
    {
      "cell_type": "code",
      "source": [
        "with open(\"formatted_chat_tokens.json\", \"w\", encoding=\"utf-8\") as f:\n",
        "    json.dump(chat_tokens, f, ensure_ascii=False, indent=2)"
      ],
      "metadata": {
        "id": "eSwdRcc-Ls61"
      },
      "execution_count": null,
      "outputs": []
    },
    {
      "cell_type": "code",
      "source": [],
      "metadata": {
        "id": "mwyu3SZ8LwlK"
      },
      "execution_count": null,
      "outputs": []
    }
  ]
}