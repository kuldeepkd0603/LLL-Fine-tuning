{
  "nbformat": 4,
  "nbformat_minor": 0,
  "metadata": {
    "colab": {
      "provenance": []
    },
    "kernelspec": {
      "name": "python3",
      "display_name": "Python 3"
    },
    "language_info": {
      "name": "python"
    }
  },
  "cells": [
    {
      "cell_type": "code",
      "execution_count": null,
      "metadata": {
        "colab": {
          "base_uri": "https://localhost:8080/"
        },
        "id": "duC4kafXxIrR",
        "outputId": "20060f75-8981-423a-d1ba-8e9555fbf6bc"
      },
      "outputs": [
        {
          "output_type": "stream",
          "name": "stderr",
          "text": [
            "/usr/local/lib/python3.11/dist-packages/huggingface_hub/utils/_auth.py:104: UserWarning: \n",
            "Error while fetching `HF_TOKEN` secret value from your vault: 'Requesting secret HF_TOKEN timed out. Secrets can only be fetched when running from the Colab UI.'.\n",
            "You are not authenticated with the Hugging Face Hub in this notebook.\n",
            "If the error persists, please let us know by opening an issue on GitHub (https://github.com/huggingface/huggingface_hub/issues/new).\n",
            "  warnings.warn(\n"
          ]
        }
      ],
      "source": [
        "import pandas as pd\n",
        "\n",
        "df = pd.read_json(\"hf://datasets/MohammadOthman/mo-customer-support-tweets-945k/preprocessed_data.json\")"
      ]
    },
    {
      "cell_type": "code",
      "source": [
        "df.head()"
      ],
      "metadata": {
        "colab": {
          "base_uri": "https://localhost:8080/",
          "height": 293
        },
        "id": "9DDyUB_CxVCY",
        "outputId": "25c1ff35-d4e3-4b44-82a9-79bcf886c46f"
      },
      "execution_count": null,
      "outputs": [
        {
          "output_type": "execute_result",
          "data": {
            "text/plain": [
              "                                               input  \\\n",
              "0                      is the worst customer service   \n",
              "1  y’all lie about your “great” connection. 5 bar...   \n",
              "2          Since I signed up with you....Since day 1   \n",
              "3  You gonna magically change your connectivity f...   \n",
              "4  whenever I contact customer support, they tell...   \n",
              "\n",
              "                                              output  \n",
              "0  I would love the chance to review the account ...  \n",
              "1  H there! we would definitely like to work with...  \n",
              "2  We understand your concerns and we would like ...  \n",
              "3  This is saddening to hear. Please shoot us a D...  \n",
              "4  Please send me a private message so that I can...  "
            ],
            "text/html": [
              "\n",
              "  <div id=\"df-b0656248-b907-4eeb-a7d5-e827cc6559ea\" class=\"colab-df-container\">\n",
              "    <div>\n",
              "<style scoped>\n",
              "    .dataframe tbody tr th:only-of-type {\n",
              "        vertical-align: middle;\n",
              "    }\n",
              "\n",
              "    .dataframe tbody tr th {\n",
              "        vertical-align: top;\n",
              "    }\n",
              "\n",
              "    .dataframe thead th {\n",
              "        text-align: right;\n",
              "    }\n",
              "</style>\n",
              "<table border=\"1\" class=\"dataframe\">\n",
              "  <thead>\n",
              "    <tr style=\"text-align: right;\">\n",
              "      <th></th>\n",
              "      <th>input</th>\n",
              "      <th>output</th>\n",
              "    </tr>\n",
              "  </thead>\n",
              "  <tbody>\n",
              "    <tr>\n",
              "      <th>0</th>\n",
              "      <td>is the worst customer service</td>\n",
              "      <td>I would love the chance to review the account ...</td>\n",
              "    </tr>\n",
              "    <tr>\n",
              "      <th>1</th>\n",
              "      <td>y’all lie about your “great” connection. 5 bar...</td>\n",
              "      <td>H there! we would definitely like to work with...</td>\n",
              "    </tr>\n",
              "    <tr>\n",
              "      <th>2</th>\n",
              "      <td>Since I signed up with you....Since day 1</td>\n",
              "      <td>We understand your concerns and we would like ...</td>\n",
              "    </tr>\n",
              "    <tr>\n",
              "      <th>3</th>\n",
              "      <td>You gonna magically change your connectivity f...</td>\n",
              "      <td>This is saddening to hear. Please shoot us a D...</td>\n",
              "    </tr>\n",
              "    <tr>\n",
              "      <th>4</th>\n",
              "      <td>whenever I contact customer support, they tell...</td>\n",
              "      <td>Please send me a private message so that I can...</td>\n",
              "    </tr>\n",
              "  </tbody>\n",
              "</table>\n",
              "</div>\n",
              "    <div class=\"colab-df-buttons\">\n",
              "\n",
              "  <div class=\"colab-df-container\">\n",
              "    <button class=\"colab-df-convert\" onclick=\"convertToInteractive('df-b0656248-b907-4eeb-a7d5-e827cc6559ea')\"\n",
              "            title=\"Convert this dataframe to an interactive table.\"\n",
              "            style=\"display:none;\">\n",
              "\n",
              "  <svg xmlns=\"http://www.w3.org/2000/svg\" height=\"24px\" viewBox=\"0 -960 960 960\">\n",
              "    <path d=\"M120-120v-720h720v720H120Zm60-500h600v-160H180v160Zm220 220h160v-160H400v160Zm0 220h160v-160H400v160ZM180-400h160v-160H180v160Zm440 0h160v-160H620v160ZM180-180h160v-160H180v160Zm440 0h160v-160H620v160Z\"/>\n",
              "  </svg>\n",
              "    </button>\n",
              "\n",
              "  <style>\n",
              "    .colab-df-container {\n",
              "      display:flex;\n",
              "      gap: 12px;\n",
              "    }\n",
              "\n",
              "    .colab-df-convert {\n",
              "      background-color: #E8F0FE;\n",
              "      border: none;\n",
              "      border-radius: 50%;\n",
              "      cursor: pointer;\n",
              "      display: none;\n",
              "      fill: #1967D2;\n",
              "      height: 32px;\n",
              "      padding: 0 0 0 0;\n",
              "      width: 32px;\n",
              "    }\n",
              "\n",
              "    .colab-df-convert:hover {\n",
              "      background-color: #E2EBFA;\n",
              "      box-shadow: 0px 1px 2px rgba(60, 64, 67, 0.3), 0px 1px 3px 1px rgba(60, 64, 67, 0.15);\n",
              "      fill: #174EA6;\n",
              "    }\n",
              "\n",
              "    .colab-df-buttons div {\n",
              "      margin-bottom: 4px;\n",
              "    }\n",
              "\n",
              "    [theme=dark] .colab-df-convert {\n",
              "      background-color: #3B4455;\n",
              "      fill: #D2E3FC;\n",
              "    }\n",
              "\n",
              "    [theme=dark] .colab-df-convert:hover {\n",
              "      background-color: #434B5C;\n",
              "      box-shadow: 0px 1px 3px 1px rgba(0, 0, 0, 0.15);\n",
              "      filter: drop-shadow(0px 1px 2px rgba(0, 0, 0, 0.3));\n",
              "      fill: #FFFFFF;\n",
              "    }\n",
              "  </style>\n",
              "\n",
              "    <script>\n",
              "      const buttonEl =\n",
              "        document.querySelector('#df-b0656248-b907-4eeb-a7d5-e827cc6559ea button.colab-df-convert');\n",
              "      buttonEl.style.display =\n",
              "        google.colab.kernel.accessAllowed ? 'block' : 'none';\n",
              "\n",
              "      async function convertToInteractive(key) {\n",
              "        const element = document.querySelector('#df-b0656248-b907-4eeb-a7d5-e827cc6559ea');\n",
              "        const dataTable =\n",
              "          await google.colab.kernel.invokeFunction('convertToInteractive',\n",
              "                                                    [key], {});\n",
              "        if (!dataTable) return;\n",
              "\n",
              "        const docLinkHtml = 'Like what you see? Visit the ' +\n",
              "          '<a target=\"_blank\" href=https://colab.research.google.com/notebooks/data_table.ipynb>data table notebook</a>'\n",
              "          + ' to learn more about interactive tables.';\n",
              "        element.innerHTML = '';\n",
              "        dataTable['output_type'] = 'display_data';\n",
              "        await google.colab.output.renderOutput(dataTable, element);\n",
              "        const docLink = document.createElement('div');\n",
              "        docLink.innerHTML = docLinkHtml;\n",
              "        element.appendChild(docLink);\n",
              "      }\n",
              "    </script>\n",
              "  </div>\n",
              "\n",
              "\n",
              "    <div id=\"df-ecc05497-a9a2-467a-8fa2-67bd18a18e43\">\n",
              "      <button class=\"colab-df-quickchart\" onclick=\"quickchart('df-ecc05497-a9a2-467a-8fa2-67bd18a18e43')\"\n",
              "                title=\"Suggest charts\"\n",
              "                style=\"display:none;\">\n",
              "\n",
              "<svg xmlns=\"http://www.w3.org/2000/svg\" height=\"24px\"viewBox=\"0 0 24 24\"\n",
              "     width=\"24px\">\n",
              "    <g>\n",
              "        <path d=\"M19 3H5c-1.1 0-2 .9-2 2v14c0 1.1.9 2 2 2h14c1.1 0 2-.9 2-2V5c0-1.1-.9-2-2-2zM9 17H7v-7h2v7zm4 0h-2V7h2v10zm4 0h-2v-4h2v4z\"/>\n",
              "    </g>\n",
              "</svg>\n",
              "      </button>\n",
              "\n",
              "<style>\n",
              "  .colab-df-quickchart {\n",
              "      --bg-color: #E8F0FE;\n",
              "      --fill-color: #1967D2;\n",
              "      --hover-bg-color: #E2EBFA;\n",
              "      --hover-fill-color: #174EA6;\n",
              "      --disabled-fill-color: #AAA;\n",
              "      --disabled-bg-color: #DDD;\n",
              "  }\n",
              "\n",
              "  [theme=dark] .colab-df-quickchart {\n",
              "      --bg-color: #3B4455;\n",
              "      --fill-color: #D2E3FC;\n",
              "      --hover-bg-color: #434B5C;\n",
              "      --hover-fill-color: #FFFFFF;\n",
              "      --disabled-bg-color: #3B4455;\n",
              "      --disabled-fill-color: #666;\n",
              "  }\n",
              "\n",
              "  .colab-df-quickchart {\n",
              "    background-color: var(--bg-color);\n",
              "    border: none;\n",
              "    border-radius: 50%;\n",
              "    cursor: pointer;\n",
              "    display: none;\n",
              "    fill: var(--fill-color);\n",
              "    height: 32px;\n",
              "    padding: 0;\n",
              "    width: 32px;\n",
              "  }\n",
              "\n",
              "  .colab-df-quickchart:hover {\n",
              "    background-color: var(--hover-bg-color);\n",
              "    box-shadow: 0 1px 2px rgba(60, 64, 67, 0.3), 0 1px 3px 1px rgba(60, 64, 67, 0.15);\n",
              "    fill: var(--button-hover-fill-color);\n",
              "  }\n",
              "\n",
              "  .colab-df-quickchart-complete:disabled,\n",
              "  .colab-df-quickchart-complete:disabled:hover {\n",
              "    background-color: var(--disabled-bg-color);\n",
              "    fill: var(--disabled-fill-color);\n",
              "    box-shadow: none;\n",
              "  }\n",
              "\n",
              "  .colab-df-spinner {\n",
              "    border: 2px solid var(--fill-color);\n",
              "    border-color: transparent;\n",
              "    border-bottom-color: var(--fill-color);\n",
              "    animation:\n",
              "      spin 1s steps(1) infinite;\n",
              "  }\n",
              "\n",
              "  @keyframes spin {\n",
              "    0% {\n",
              "      border-color: transparent;\n",
              "      border-bottom-color: var(--fill-color);\n",
              "      border-left-color: var(--fill-color);\n",
              "    }\n",
              "    20% {\n",
              "      border-color: transparent;\n",
              "      border-left-color: var(--fill-color);\n",
              "      border-top-color: var(--fill-color);\n",
              "    }\n",
              "    30% {\n",
              "      border-color: transparent;\n",
              "      border-left-color: var(--fill-color);\n",
              "      border-top-color: var(--fill-color);\n",
              "      border-right-color: var(--fill-color);\n",
              "    }\n",
              "    40% {\n",
              "      border-color: transparent;\n",
              "      border-right-color: var(--fill-color);\n",
              "      border-top-color: var(--fill-color);\n",
              "    }\n",
              "    60% {\n",
              "      border-color: transparent;\n",
              "      border-right-color: var(--fill-color);\n",
              "    }\n",
              "    80% {\n",
              "      border-color: transparent;\n",
              "      border-right-color: var(--fill-color);\n",
              "      border-bottom-color: var(--fill-color);\n",
              "    }\n",
              "    90% {\n",
              "      border-color: transparent;\n",
              "      border-bottom-color: var(--fill-color);\n",
              "    }\n",
              "  }\n",
              "</style>\n",
              "\n",
              "      <script>\n",
              "        async function quickchart(key) {\n",
              "          const quickchartButtonEl =\n",
              "            document.querySelector('#' + key + ' button');\n",
              "          quickchartButtonEl.disabled = true;  // To prevent multiple clicks.\n",
              "          quickchartButtonEl.classList.add('colab-df-spinner');\n",
              "          try {\n",
              "            const charts = await google.colab.kernel.invokeFunction(\n",
              "                'suggestCharts', [key], {});\n",
              "          } catch (error) {\n",
              "            console.error('Error during call to suggestCharts:', error);\n",
              "          }\n",
              "          quickchartButtonEl.classList.remove('colab-df-spinner');\n",
              "          quickchartButtonEl.classList.add('colab-df-quickchart-complete');\n",
              "        }\n",
              "        (() => {\n",
              "          let quickchartButtonEl =\n",
              "            document.querySelector('#df-ecc05497-a9a2-467a-8fa2-67bd18a18e43 button');\n",
              "          quickchartButtonEl.style.display =\n",
              "            google.colab.kernel.accessAllowed ? 'block' : 'none';\n",
              "        })();\n",
              "      </script>\n",
              "    </div>\n",
              "\n",
              "    </div>\n",
              "  </div>\n"
            ],
            "application/vnd.google.colaboratory.intrinsic+json": {
              "type": "dataframe",
              "variable_name": "df"
            }
          },
          "metadata": {},
          "execution_count": 2
        }
      ]
    },
    {
      "cell_type": "code",
      "source": [
        "df.info()"
      ],
      "metadata": {
        "colab": {
          "base_uri": "https://localhost:8080/"
        },
        "id": "KKlZMKkM0FGL",
        "outputId": "1a8e25a1-6dd0-42f2-b33d-131c80dbc6ab"
      },
      "execution_count": null,
      "outputs": [
        {
          "output_type": "stream",
          "name": "stdout",
          "text": [
            "<class 'pandas.core.frame.DataFrame'>\n",
            "RangeIndex: 945278 entries, 0 to 945277\n",
            "Data columns (total 2 columns):\n",
            " #   Column  Non-Null Count   Dtype \n",
            "---  ------  --------------   ----- \n",
            " 0   input   945278 non-null  object\n",
            " 1   output  945278 non-null  object\n",
            "dtypes: object(2)\n",
            "memory usage: 14.4+ MB\n"
          ]
        }
      ]
    },
    {
      "cell_type": "code",
      "source": [
        "import json"
      ],
      "metadata": {
        "id": "QTIg2N_4xeFl"
      },
      "execution_count": null,
      "outputs": []
    },
    {
      "cell_type": "code",
      "source": [
        "def convert_to_token_format(user_input, assistant_output):\n",
        "    return [\n",
        "        {\"token\": \"<|im_start|>\"},\n",
        "        f\"system\\nYou are a helpful customer support assistant.\",\n",
        "        {\"token\": \"<|im_end|>\"},\n",
        "        \"\\n\",\n",
        "        {\"token\": \"<|im_start|>\"},\n",
        "        f\"user\\n{user_input}\",\n",
        "        {\"token\": \"<|im_end|>\"},\n",
        "        \"\\n\",\n",
        "        {\"token\": \"<|im_start|>\"},\n",
        "        f\"assistant\\n{assistant_output}\",\n",
        "        {\"token\": \"<|im_end|>\"},\n",
        "        \"\\n\"\n",
        "    ]"
      ],
      "metadata": {
        "id": "6MlCC9iCzVBz"
      },
      "execution_count": null,
      "outputs": []
    },
    {
      "cell_type": "code",
      "source": [
        "formatted_data = [convert_to_token_format(row[\"input\"], row[\"output\"]) for _, row in df.iterrows()]"
      ],
      "metadata": {
        "id": "bUdgDFiGzbmq"
      },
      "execution_count": null,
      "outputs": []
    },
    {
      "cell_type": "code",
      "source": [
        "with open(\"chat_token_format.json\", \"w\") as f:\n",
        "    json.dump(formatted_data, f, indent=2)"
      ],
      "metadata": {
        "id": "h7g7yt95zf6q"
      },
      "execution_count": null,
      "outputs": []
    },
    {
      "cell_type": "code",
      "source": [
        "! git clone https://github.com/google-research-datasets/Taskmaster.git\n"
      ],
      "metadata": {
        "colab": {
          "base_uri": "https://localhost:8080/"
        },
        "id": "tU908dtc631W",
        "outputId": "dc8ab45e-aa1a-4121-9816-7f81df7ed163"
      },
      "execution_count": null,
      "outputs": [
        {
          "output_type": "stream",
          "name": "stdout",
          "text": [
            "Cloning into 'Taskmaster'...\n",
            "remote: Enumerating objects: 304, done.\u001b[K\n",
            "remote: Counting objects: 100% (80/80), done.\u001b[K\n",
            "remote: Compressing objects: 100% (42/42), done.\u001b[K\n",
            "remote: Total 304 (delta 48), reused 50 (delta 37), pack-reused 224 (from 1)\u001b[K\n",
            "Receiving objects: 100% (304/304), 108.41 MiB | 29.42 MiB/s, done.\n",
            "Resolving deltas: 100% (143/143), done.\n",
            "Updating files: 100% (143/143), done.\n"
          ]
        }
      ]
    },
    {
      "cell_type": "code",
      "source": [
        "df=pd.read_csv(\"/content/Taskmaster/TM-3-2020/splits/dev/dev-ab.tsv\",sep='\\t',header=None)"
      ],
      "metadata": {
        "id": "76IBIlkc66la"
      },
      "execution_count": null,
      "outputs": []
    },
    {
      "cell_type": "code",
      "source": [
        "df.columns = ['user', 'assistant', 'session_id']"
      ],
      "metadata": {
        "id": "Rvcmx1XQ8FRm"
      },
      "execution_count": null,
      "outputs": []
    },
    {
      "cell_type": "code",
      "source": [
        "def extract_messages(row):\n",
        "    session = []\n",
        "    text = row['user']\n",
        "\n",
        "\n",
        "    segments = re.split(r'(<[UA]>)', text)\n",
        "    segments = [s for s in segments if s and s != \"<C>\"]\n",
        "\n",
        "    for i in range(0, len(segments) - 1, 2):\n",
        "        tag = segments[i]\n",
        "        message = segments[i + 1].strip()\n",
        "        role = \"user\" if tag == \"<U>\" else \"assistant\"\n",
        "\n",
        "        session.extend([\n",
        "            {\"token\": \"<|im_start|>\"},\n",
        "            f\"{role}\\n{message}\",\n",
        "            {\"token\": \"<|im_end|>\"},\n",
        "            \"\\n\"\n",
        "        ])\n",
        "\n",
        "    if pd.notna(row['assistant']):\n",
        "        last_msg = re.sub(r\"^\\[A\\]\", \"\", row[\"assistant\"]).strip()\n",
        "        session.extend([\n",
        "            {\"token\": \"<|im_start|>\"},\n",
        "            f\"assistant\\n{last_msg}\",\n",
        "            {\"token\": \"<|im_end|>\"},\n",
        "            \"\\n\"\n",
        "        ])\n",
        "\n",
        "    return {\n",
        "        \"session_id\": row[\"session_id\"],\n",
        "        \"messages\": session\n",
        "    }\n",
        "\n",
        "sessions = df.apply(extract_messages, axis=1).tolist()\n"
      ],
      "metadata": {
        "id": "BbL-ipTXD-8u"
      },
      "execution_count": null,
      "outputs": []
    },
    {
      "cell_type": "code",
      "source": [
        "with open(\"movie2_chat_sessions.jsonl\", \"w\") as f:\n",
        "    for session in sessions:\n",
        "        f.write(json.dumps(session) + \"\\n\")"
      ],
      "metadata": {
        "id": "zGc-XAhhElEa"
      },
      "execution_count": null,
      "outputs": []
    },
    {
      "cell_type": "markdown",
      "source": [
        "##new data prepare"
      ],
      "metadata": {
        "id": "rOmz3vjxcaRH"
      }
    },
    {
      "cell_type": "code",
      "source": [
        "import pandas as pd\n",
        "df=pd.read_json(\"/content/Taskmaster/TM-2-2020/data/sports.json\")"
      ],
      "metadata": {
        "id": "GWVPmMPL7uyW"
      },
      "execution_count": null,
      "outputs": []
    },
    {
      "cell_type": "code",
      "source": [
        "df.head(5)"
      ],
      "metadata": {
        "colab": {
          "base_uri": "https://localhost:8080/",
          "height": 293
        },
        "id": "6ULK29xJ9EXg",
        "outputId": "9dcf59c4-42db-4c99-8744-1b331827e2c8"
      },
      "execution_count": null,
      "outputs": [
        {
          "output_type": "execute_result",
          "data": {
            "text/plain": [
              "                            conversation_id instruction_id  \\\n",
              "0  dlg-0004d9ce-d9c4-4c20-a744-e25c053ea9b8          mlb-6   \n",
              "1  dlg-000ff7e6-03d2-49f2-bc35-7facd64c3a39          mlb-7   \n",
              "2  dlg-0011cca8-a3e2-4155-b1a5-c2a93c84e3d1          epl-1   \n",
              "3  dlg-0032fb90-18ce-45cd-a360-ab4b139a5d29          mls-6   \n",
              "4  dlg-004ef8ca-ef77-4564-980c-3705c3c681fe          mls-1   \n",
              "\n",
              "                                          utterances  \n",
              "0  [{'index': 0, 'speaker': 'USER', 'text': 'Hi. ...  \n",
              "1  [{'index': 0, 'speaker': 'USER', 'text': 'What...  \n",
              "2  [{'index': 0, 'speaker': 'USER', 'text': 'I'm ...  \n",
              "3  [{'index': 0, 'speaker': 'ASSISTANT', 'text': ...  \n",
              "4  [{'index': 0, 'speaker': 'USER', 'text': 'Hey,...  "
            ],
            "text/html": [
              "\n",
              "  <div id=\"df-e71220b5-8dc8-425c-a762-ee51ddf125db\" class=\"colab-df-container\">\n",
              "    <div>\n",
              "<style scoped>\n",
              "    .dataframe tbody tr th:only-of-type {\n",
              "        vertical-align: middle;\n",
              "    }\n",
              "\n",
              "    .dataframe tbody tr th {\n",
              "        vertical-align: top;\n",
              "    }\n",
              "\n",
              "    .dataframe thead th {\n",
              "        text-align: right;\n",
              "    }\n",
              "</style>\n",
              "<table border=\"1\" class=\"dataframe\">\n",
              "  <thead>\n",
              "    <tr style=\"text-align: right;\">\n",
              "      <th></th>\n",
              "      <th>conversation_id</th>\n",
              "      <th>instruction_id</th>\n",
              "      <th>utterances</th>\n",
              "    </tr>\n",
              "  </thead>\n",
              "  <tbody>\n",
              "    <tr>\n",
              "      <th>0</th>\n",
              "      <td>dlg-0004d9ce-d9c4-4c20-a744-e25c053ea9b8</td>\n",
              "      <td>mlb-6</td>\n",
              "      <td>[{'index': 0, 'speaker': 'USER', 'text': 'Hi. ...</td>\n",
              "    </tr>\n",
              "    <tr>\n",
              "      <th>1</th>\n",
              "      <td>dlg-000ff7e6-03d2-49f2-bc35-7facd64c3a39</td>\n",
              "      <td>mlb-7</td>\n",
              "      <td>[{'index': 0, 'speaker': 'USER', 'text': 'What...</td>\n",
              "    </tr>\n",
              "    <tr>\n",
              "      <th>2</th>\n",
              "      <td>dlg-0011cca8-a3e2-4155-b1a5-c2a93c84e3d1</td>\n",
              "      <td>epl-1</td>\n",
              "      <td>[{'index': 0, 'speaker': 'USER', 'text': 'I'm ...</td>\n",
              "    </tr>\n",
              "    <tr>\n",
              "      <th>3</th>\n",
              "      <td>dlg-0032fb90-18ce-45cd-a360-ab4b139a5d29</td>\n",
              "      <td>mls-6</td>\n",
              "      <td>[{'index': 0, 'speaker': 'ASSISTANT', 'text': ...</td>\n",
              "    </tr>\n",
              "    <tr>\n",
              "      <th>4</th>\n",
              "      <td>dlg-004ef8ca-ef77-4564-980c-3705c3c681fe</td>\n",
              "      <td>mls-1</td>\n",
              "      <td>[{'index': 0, 'speaker': 'USER', 'text': 'Hey,...</td>\n",
              "    </tr>\n",
              "  </tbody>\n",
              "</table>\n",
              "</div>\n",
              "    <div class=\"colab-df-buttons\">\n",
              "\n",
              "  <div class=\"colab-df-container\">\n",
              "    <button class=\"colab-df-convert\" onclick=\"convertToInteractive('df-e71220b5-8dc8-425c-a762-ee51ddf125db')\"\n",
              "            title=\"Convert this dataframe to an interactive table.\"\n",
              "            style=\"display:none;\">\n",
              "\n",
              "  <svg xmlns=\"http://www.w3.org/2000/svg\" height=\"24px\" viewBox=\"0 -960 960 960\">\n",
              "    <path d=\"M120-120v-720h720v720H120Zm60-500h600v-160H180v160Zm220 220h160v-160H400v160Zm0 220h160v-160H400v160ZM180-400h160v-160H180v160Zm440 0h160v-160H620v160ZM180-180h160v-160H180v160Zm440 0h160v-160H620v160Z\"/>\n",
              "  </svg>\n",
              "    </button>\n",
              "\n",
              "  <style>\n",
              "    .colab-df-container {\n",
              "      display:flex;\n",
              "      gap: 12px;\n",
              "    }\n",
              "\n",
              "    .colab-df-convert {\n",
              "      background-color: #E8F0FE;\n",
              "      border: none;\n",
              "      border-radius: 50%;\n",
              "      cursor: pointer;\n",
              "      display: none;\n",
              "      fill: #1967D2;\n",
              "      height: 32px;\n",
              "      padding: 0 0 0 0;\n",
              "      width: 32px;\n",
              "    }\n",
              "\n",
              "    .colab-df-convert:hover {\n",
              "      background-color: #E2EBFA;\n",
              "      box-shadow: 0px 1px 2px rgba(60, 64, 67, 0.3), 0px 1px 3px 1px rgba(60, 64, 67, 0.15);\n",
              "      fill: #174EA6;\n",
              "    }\n",
              "\n",
              "    .colab-df-buttons div {\n",
              "      margin-bottom: 4px;\n",
              "    }\n",
              "\n",
              "    [theme=dark] .colab-df-convert {\n",
              "      background-color: #3B4455;\n",
              "      fill: #D2E3FC;\n",
              "    }\n",
              "\n",
              "    [theme=dark] .colab-df-convert:hover {\n",
              "      background-color: #434B5C;\n",
              "      box-shadow: 0px 1px 3px 1px rgba(0, 0, 0, 0.15);\n",
              "      filter: drop-shadow(0px 1px 2px rgba(0, 0, 0, 0.3));\n",
              "      fill: #FFFFFF;\n",
              "    }\n",
              "  </style>\n",
              "\n",
              "    <script>\n",
              "      const buttonEl =\n",
              "        document.querySelector('#df-e71220b5-8dc8-425c-a762-ee51ddf125db button.colab-df-convert');\n",
              "      buttonEl.style.display =\n",
              "        google.colab.kernel.accessAllowed ? 'block' : 'none';\n",
              "\n",
              "      async function convertToInteractive(key) {\n",
              "        const element = document.querySelector('#df-e71220b5-8dc8-425c-a762-ee51ddf125db');\n",
              "        const dataTable =\n",
              "          await google.colab.kernel.invokeFunction('convertToInteractive',\n",
              "                                                    [key], {});\n",
              "        if (!dataTable) return;\n",
              "\n",
              "        const docLinkHtml = 'Like what you see? Visit the ' +\n",
              "          '<a target=\"_blank\" href=https://colab.research.google.com/notebooks/data_table.ipynb>data table notebook</a>'\n",
              "          + ' to learn more about interactive tables.';\n",
              "        element.innerHTML = '';\n",
              "        dataTable['output_type'] = 'display_data';\n",
              "        await google.colab.output.renderOutput(dataTable, element);\n",
              "        const docLink = document.createElement('div');\n",
              "        docLink.innerHTML = docLinkHtml;\n",
              "        element.appendChild(docLink);\n",
              "      }\n",
              "    </script>\n",
              "  </div>\n",
              "\n",
              "\n",
              "    <div id=\"df-630ced74-90e0-41d8-ab91-06d3d5f96c27\">\n",
              "      <button class=\"colab-df-quickchart\" onclick=\"quickchart('df-630ced74-90e0-41d8-ab91-06d3d5f96c27')\"\n",
              "                title=\"Suggest charts\"\n",
              "                style=\"display:none;\">\n",
              "\n",
              "<svg xmlns=\"http://www.w3.org/2000/svg\" height=\"24px\"viewBox=\"0 0 24 24\"\n",
              "     width=\"24px\">\n",
              "    <g>\n",
              "        <path d=\"M19 3H5c-1.1 0-2 .9-2 2v14c0 1.1.9 2 2 2h14c1.1 0 2-.9 2-2V5c0-1.1-.9-2-2-2zM9 17H7v-7h2v7zm4 0h-2V7h2v10zm4 0h-2v-4h2v4z\"/>\n",
              "    </g>\n",
              "</svg>\n",
              "      </button>\n",
              "\n",
              "<style>\n",
              "  .colab-df-quickchart {\n",
              "      --bg-color: #E8F0FE;\n",
              "      --fill-color: #1967D2;\n",
              "      --hover-bg-color: #E2EBFA;\n",
              "      --hover-fill-color: #174EA6;\n",
              "      --disabled-fill-color: #AAA;\n",
              "      --disabled-bg-color: #DDD;\n",
              "  }\n",
              "\n",
              "  [theme=dark] .colab-df-quickchart {\n",
              "      --bg-color: #3B4455;\n",
              "      --fill-color: #D2E3FC;\n",
              "      --hover-bg-color: #434B5C;\n",
              "      --hover-fill-color: #FFFFFF;\n",
              "      --disabled-bg-color: #3B4455;\n",
              "      --disabled-fill-color: #666;\n",
              "  }\n",
              "\n",
              "  .colab-df-quickchart {\n",
              "    background-color: var(--bg-color);\n",
              "    border: none;\n",
              "    border-radius: 50%;\n",
              "    cursor: pointer;\n",
              "    display: none;\n",
              "    fill: var(--fill-color);\n",
              "    height: 32px;\n",
              "    padding: 0;\n",
              "    width: 32px;\n",
              "  }\n",
              "\n",
              "  .colab-df-quickchart:hover {\n",
              "    background-color: var(--hover-bg-color);\n",
              "    box-shadow: 0 1px 2px rgba(60, 64, 67, 0.3), 0 1px 3px 1px rgba(60, 64, 67, 0.15);\n",
              "    fill: var(--button-hover-fill-color);\n",
              "  }\n",
              "\n",
              "  .colab-df-quickchart-complete:disabled,\n",
              "  .colab-df-quickchart-complete:disabled:hover {\n",
              "    background-color: var(--disabled-bg-color);\n",
              "    fill: var(--disabled-fill-color);\n",
              "    box-shadow: none;\n",
              "  }\n",
              "\n",
              "  .colab-df-spinner {\n",
              "    border: 2px solid var(--fill-color);\n",
              "    border-color: transparent;\n",
              "    border-bottom-color: var(--fill-color);\n",
              "    animation:\n",
              "      spin 1s steps(1) infinite;\n",
              "  }\n",
              "\n",
              "  @keyframes spin {\n",
              "    0% {\n",
              "      border-color: transparent;\n",
              "      border-bottom-color: var(--fill-color);\n",
              "      border-left-color: var(--fill-color);\n",
              "    }\n",
              "    20% {\n",
              "      border-color: transparent;\n",
              "      border-left-color: var(--fill-color);\n",
              "      border-top-color: var(--fill-color);\n",
              "    }\n",
              "    30% {\n",
              "      border-color: transparent;\n",
              "      border-left-color: var(--fill-color);\n",
              "      border-top-color: var(--fill-color);\n",
              "      border-right-color: var(--fill-color);\n",
              "    }\n",
              "    40% {\n",
              "      border-color: transparent;\n",
              "      border-right-color: var(--fill-color);\n",
              "      border-top-color: var(--fill-color);\n",
              "    }\n",
              "    60% {\n",
              "      border-color: transparent;\n",
              "      border-right-color: var(--fill-color);\n",
              "    }\n",
              "    80% {\n",
              "      border-color: transparent;\n",
              "      border-right-color: var(--fill-color);\n",
              "      border-bottom-color: var(--fill-color);\n",
              "    }\n",
              "    90% {\n",
              "      border-color: transparent;\n",
              "      border-bottom-color: var(--fill-color);\n",
              "    }\n",
              "  }\n",
              "</style>\n",
              "\n",
              "      <script>\n",
              "        async function quickchart(key) {\n",
              "          const quickchartButtonEl =\n",
              "            document.querySelector('#' + key + ' button');\n",
              "          quickchartButtonEl.disabled = true;  // To prevent multiple clicks.\n",
              "          quickchartButtonEl.classList.add('colab-df-spinner');\n",
              "          try {\n",
              "            const charts = await google.colab.kernel.invokeFunction(\n",
              "                'suggestCharts', [key], {});\n",
              "          } catch (error) {\n",
              "            console.error('Error during call to suggestCharts:', error);\n",
              "          }\n",
              "          quickchartButtonEl.classList.remove('colab-df-spinner');\n",
              "          quickchartButtonEl.classList.add('colab-df-quickchart-complete');\n",
              "        }\n",
              "        (() => {\n",
              "          let quickchartButtonEl =\n",
              "            document.querySelector('#df-630ced74-90e0-41d8-ab91-06d3d5f96c27 button');\n",
              "          quickchartButtonEl.style.display =\n",
              "            google.colab.kernel.accessAllowed ? 'block' : 'none';\n",
              "        })();\n",
              "      </script>\n",
              "    </div>\n",
              "\n",
              "    </div>\n",
              "  </div>\n"
            ],
            "application/vnd.google.colaboratory.intrinsic+json": {
              "type": "dataframe",
              "variable_name": "df",
              "summary": "{\n  \"name\": \"df\",\n  \"rows\": 3481,\n  \"fields\": [\n    {\n      \"column\": \"conversation_id\",\n      \"properties\": {\n        \"dtype\": \"string\",\n        \"num_unique_values\": 3478,\n        \"samples\": [\n          \"dlg-f381d7b4-ff31-48b3-a3fb-d764adfc58eb\",\n          \"dlg-687b0173-0b06-4295-849c-27d965f852c7\",\n          \"dlg-175df962-7387-4040-9107-65bf26c03737\"\n        ],\n        \"semantic_type\": \"\",\n        \"description\": \"\"\n      }\n    },\n    {\n      \"column\": \"instruction_id\",\n      \"properties\": {\n        \"dtype\": \"category\",\n        \"num_unique_values\": 21,\n        \"samples\": [\n          \"mlb-6\",\n          \"mlb-9\",\n          \"mlb-2\"\n        ],\n        \"semantic_type\": \"\",\n        \"description\": \"\"\n      }\n    },\n    {\n      \"column\": \"utterances\",\n      \"properties\": {\n        \"dtype\": \"object\",\n        \"semantic_type\": \"\",\n        \"description\": \"\"\n      }\n    }\n  ]\n}"
            }
          },
          "metadata": {},
          "execution_count": 97
        }
      ]
    },
    {
      "cell_type": "code",
      "source": [
        "df.shape"
      ],
      "metadata": {
        "colab": {
          "base_uri": "https://localhost:8080/"
        },
        "id": "whQHuGwoFHiP",
        "outputId": "bb2a9ea4-208c-4a15-acef-7a3323a6dce9"
      },
      "execution_count": null,
      "outputs": [
        {
          "output_type": "execute_result",
          "data": {
            "text/plain": [
              "(3481, 3)"
            ]
          },
          "metadata": {},
          "execution_count": 98
        }
      ]
    },
    {
      "cell_type": "code",
      "source": [
        "df['utterances'][0]"
      ],
      "metadata": {
        "colab": {
          "base_uri": "https://localhost:8080/"
        },
        "collapsed": true,
        "id": "zjK_RGuu9GXb",
        "outputId": "80da6f2d-b817-47d1-f291-b16b37eff244"
      },
      "execution_count": null,
      "outputs": [
        {
          "output_type": "execute_result",
          "data": {
            "text/plain": [
              "[{'index': 0,\n",
              "  'speaker': 'USER',\n",
              "  'text': \"Hi. My favorite baseball team is St. Louis Cardinals and I want to ask how they're doing currently.\",\n",
              "  'segments': [{'start_index': 33,\n",
              "    'end_index': 52,\n",
              "    'text': 'St. Louis Cardinals',\n",
              "    'annotations': [{'name': 'mlb.name.team'}]}]},\n",
              " {'index': 1, 'speaker': 'ASSISTANT', 'text': 'Sure.'},\n",
              " {'index': 2, 'speaker': 'USER', 'text': 'Who are they playing today?'},\n",
              " {'index': 3, 'speaker': 'ASSISTANT', 'text': 'Hold on for a moment.'},\n",
              " {'index': 4,\n",
              "  'speaker': 'ASSISTANT',\n",
              "  'text': \"It's in the 3rd place in National League Central.\",\n",
              "  'segments': [{'start_index': 12,\n",
              "    'end_index': 21,\n",
              "    'text': '3rd place',\n",
              "    'annotations': [{'name': 'mlb.place.team'}]}]},\n",
              " {'index': 5,\n",
              "  'speaker': 'ASSISTANT',\n",
              "  'text': 'There is no game today.',\n",
              "  'segments': [{'start_index': 17,\n",
              "    'end_index': 22,\n",
              "    'text': 'today',\n",
              "    'annotations': [{'name': 'mlb.day.match'}]}]},\n",
              " {'index': 6,\n",
              "  'speaker': 'USER',\n",
              "  'text': 'Did they played last Saturday?',\n",
              "  'segments': [{'start_index': 16,\n",
              "    'end_index': 29,\n",
              "    'text': 'last Saturday',\n",
              "    'annotations': [{'name': 'mlb.day.match'}]}]},\n",
              " {'index': 7,\n",
              "  'speaker': 'ASSISTANT',\n",
              "  'text': 'Yes, they played against Diamondbacks.',\n",
              "  'segments': [{'start_index': 25,\n",
              "    'end_index': 37,\n",
              "    'text': 'Diamondbacks',\n",
              "    'annotations': [{'name': 'mlb.name.team'}]}]},\n",
              " {'index': 8,\n",
              "  'speaker': 'USER',\n",
              "  'text': 'What was the score in their last game?'},\n",
              " {'index': 9,\n",
              "  'speaker': 'ASSISTANT',\n",
              "  'text': \"It's 2-3 and they won.\",\n",
              "  'segments': [{'start_index': 5,\n",
              "    'end_index': 8,\n",
              "    'text': '2-3',\n",
              "    'annotations': [{'name': 'mlb.score.match'}]},\n",
              "   {'start_index': 13,\n",
              "    'end_index': 21,\n",
              "    'text': 'they won',\n",
              "    'annotations': [{'name': 'mlb.result.match'}]}]},\n",
              " {'index': 10, 'speaker': 'USER', 'text': \"Okay. And then who's the manager?\"},\n",
              " {'index': 11,\n",
              "  'speaker': 'ASSISTANT',\n",
              "  'text': 'Mike Matheny is the manager.',\n",
              "  'segments': [{'start_index': 0,\n",
              "    'end_index': 12,\n",
              "    'text': 'Mike Matheny',\n",
              "    'annotations': [{'name': 'mlb.name.non_player'}]}]},\n",
              " {'index': 12,\n",
              "  'speaker': 'USER',\n",
              "  'text': \"Okay, that's all I wanted to know.\"},\n",
              " {'index': 13, 'speaker': 'ASSISTANT', 'text': 'Do you need anything else?'},\n",
              " {'index': 14, 'speaker': 'USER', 'text': \"That's it.\"},\n",
              " {'index': 15, 'speaker': 'ASSISTANT', 'text': 'Okay, bye.'},\n",
              " {'index': 16, 'speaker': 'USER', 'text': 'Bye.'}]"
            ]
          },
          "metadata": {},
          "execution_count": 99
        }
      ]
    },
    {
      "cell_type": "code",
      "source": [
        "def convert_to_llama_chat_format(utterances, system_prompt=None):\n",
        "    tokens = []\n",
        "    if system_prompt:\n",
        "        tokens.extend([\n",
        "            {\"token\": \"<|im_start|>\"},\n",
        "            f\"system\\n{system_prompt}\",\n",
        "            {\"token\": \"<|im_end|>\"}, \"\\n\"\n",
        "        ])\n",
        "\n",
        "    for utt in utterances:\n",
        "        speaker = utt['speaker'].strip().lower()\n",
        "        if speaker not in ['user', 'assistant']:\n",
        "            continue\n",
        "        text = utt['text'].strip()\n",
        "        tokens.extend([\n",
        "            {\"token\": \"<|im_start|>\"},\n",
        "            f\"{speaker}\\n{text}\",\n",
        "            {\"token\": \"<|im_end|>\"}, \"\\n\"\n",
        "        ])\n",
        "\n",
        "    return tokens"
      ],
      "metadata": {
        "id": "n8ZDImYxFPdG"
      },
      "execution_count": null,
      "outputs": []
    },
    {
      "cell_type": "code",
      "source": [
        "SYSTEM_PROMPT = (\n",
        "    \"You are a large language model (conversational chat model) trained by Kuldeep. \"\n",
        "    \"Answer as concisely as possible.\\nKnowledge cutoff: 2021-09-01\\nCurrent date: 2023-03-01\"\n",
        ")"
      ],
      "metadata": {
        "id": "sw-ljqnYaK4-"
      },
      "execution_count": null,
      "outputs": []
    },
    {
      "cell_type": "code",
      "source": [
        "chat_data_all_sessions = []"
      ],
      "metadata": {
        "id": "EgCa_shZaTGq"
      },
      "execution_count": null,
      "outputs": []
    },
    {
      "cell_type": "code",
      "source": [
        "for _, row in df.iterrows():\n",
        "    session_id = row['conversation_id']\n",
        "    utterances = row['utterances']\n",
        "\n",
        "    formatted_session = {\n",
        "        \"session_id\": session_id,\n",
        "        \"conversation\": convert_to_llama_chat_format(utterances, system_prompt=SYSTEM_PROMPT)\n",
        "    }\n",
        "    chat_data_all_sessions.append(formatted_session)\n"
      ],
      "metadata": {
        "id": "Af4honChagEX"
      },
      "execution_count": null,
      "outputs": []
    },
    {
      "cell_type": "code",
      "source": [
        "chat_data_all_sessions[0]"
      ],
      "metadata": {
        "colab": {
          "base_uri": "https://localhost:8080/"
        },
        "collapsed": true,
        "id": "uB4yQHr3ajEU",
        "outputId": "4a4dce71-e31a-48a9-e7d1-c7c96011793d"
      },
      "execution_count": null,
      "outputs": [
        {
          "output_type": "execute_result",
          "data": {
            "text/plain": [
              "{'session_id': 'dlg-0004d9ce-d9c4-4c20-a744-e25c053ea9b8',\n",
              " 'conversation': [{'token': '<|im_start|>'},\n",
              "  'system\\nYou are a large language model (conversational chat model) trained by Kuldeep. Answer as concisely as possible.\\nKnowledge cutoff: 2021-09-01\\nCurrent date: 2023-03-01',\n",
              "  {'token': '<|im_end|>'},\n",
              "  '\\n',\n",
              "  {'token': '<|im_start|>'},\n",
              "  \"user\\nHi. My favorite baseball team is St. Louis Cardinals and I want to ask how they're doing currently.\",\n",
              "  {'token': '<|im_end|>'},\n",
              "  '\\n',\n",
              "  {'token': '<|im_start|>'},\n",
              "  'assistant\\nSure.',\n",
              "  {'token': '<|im_end|>'},\n",
              "  '\\n',\n",
              "  {'token': '<|im_start|>'},\n",
              "  'user\\nWho are they playing today?',\n",
              "  {'token': '<|im_end|>'},\n",
              "  '\\n',\n",
              "  {'token': '<|im_start|>'},\n",
              "  'assistant\\nHold on for a moment.',\n",
              "  {'token': '<|im_end|>'},\n",
              "  '\\n',\n",
              "  {'token': '<|im_start|>'},\n",
              "  \"assistant\\nIt's in the 3rd place in National League Central.\",\n",
              "  {'token': '<|im_end|>'},\n",
              "  '\\n',\n",
              "  {'token': '<|im_start|>'},\n",
              "  'assistant\\nThere is no game today.',\n",
              "  {'token': '<|im_end|>'},\n",
              "  '\\n',\n",
              "  {'token': '<|im_start|>'},\n",
              "  'user\\nDid they played last Saturday?',\n",
              "  {'token': '<|im_end|>'},\n",
              "  '\\n',\n",
              "  {'token': '<|im_start|>'},\n",
              "  'assistant\\nYes, they played against Diamondbacks.',\n",
              "  {'token': '<|im_end|>'},\n",
              "  '\\n',\n",
              "  {'token': '<|im_start|>'},\n",
              "  'user\\nWhat was the score in their last game?',\n",
              "  {'token': '<|im_end|>'},\n",
              "  '\\n',\n",
              "  {'token': '<|im_start|>'},\n",
              "  \"assistant\\nIt's 2-3 and they won.\",\n",
              "  {'token': '<|im_end|>'},\n",
              "  '\\n',\n",
              "  {'token': '<|im_start|>'},\n",
              "  \"user\\nOkay. And then who's the manager?\",\n",
              "  {'token': '<|im_end|>'},\n",
              "  '\\n',\n",
              "  {'token': '<|im_start|>'},\n",
              "  'assistant\\nMike Matheny is the manager.',\n",
              "  {'token': '<|im_end|>'},\n",
              "  '\\n',\n",
              "  {'token': '<|im_start|>'},\n",
              "  \"user\\nOkay, that's all I wanted to know.\",\n",
              "  {'token': '<|im_end|>'},\n",
              "  '\\n',\n",
              "  {'token': '<|im_start|>'},\n",
              "  'assistant\\nDo you need anything else?',\n",
              "  {'token': '<|im_end|>'},\n",
              "  '\\n',\n",
              "  {'token': '<|im_start|>'},\n",
              "  \"user\\nThat's it.\",\n",
              "  {'token': '<|im_end|>'},\n",
              "  '\\n',\n",
              "  {'token': '<|im_start|>'},\n",
              "  'assistant\\nOkay, bye.',\n",
              "  {'token': '<|im_end|>'},\n",
              "  '\\n',\n",
              "  {'token': '<|im_start|>'},\n",
              "  'user\\nBye.',\n",
              "  {'token': '<|im_end|>'},\n",
              "  '\\n']}"
            ]
          },
          "metadata": {},
          "execution_count": 104
        }
      ]
    },
    {
      "cell_type": "markdown",
      "source": [],
      "metadata": {
        "id": "ZiHW-wd6gMya"
      }
    },
    {
      "cell_type": "code",
      "source": [
        "len(chat_data_all_sessions)"
      ],
      "metadata": {
        "colab": {
          "base_uri": "https://localhost:8080/"
        },
        "id": "lEzx3NL7a3ig",
        "outputId": "34c84b28-156b-4d86-bbfb-d90a2b2e9739"
      },
      "execution_count": null,
      "outputs": [
        {
          "output_type": "execute_result",
          "data": {
            "text/plain": [
              "3481"
            ]
          },
          "metadata": {},
          "execution_count": 105
        }
      ]
    },
    {
      "cell_type": "code",
      "source": [
        "import json\n",
        "with open(\"sports_chat_data.json\", \"w\") as f:\n",
        "    json.dump(chat_data_all_sessions, f, indent=2)"
      ],
      "metadata": {
        "id": "PzcEgo-wbOcP"
      },
      "execution_count": null,
      "outputs": []
    },
    {
      "cell_type": "code",
      "source": [
        "import json\n",
        "\n",
        "def convert_to_chatformat(input_path, output_path, system_prompt=None):\n",
        "    \"\"\"\n",
        "    input_path: path to your present JSON data (as described)\n",
        "    output_path: desired .jsonl output path\n",
        "    system_prompt: optional string for a system message, otherwise no system message\n",
        "    \"\"\"\n",
        "    with open(input_path, \"r\", encoding=\"utf-8\") as fin:\n",
        "        conversations = json.load(fin)\n",
        "\n",
        "    with open(output_path, \"w\", encoding=\"utf-8\") as fout:\n",
        "        for conv in conversations:\n",
        "            messages = []\n",
        "            if system_prompt:\n",
        "                messages.append({\"role\": \"system\", \"content\": system_prompt})\n",
        "\n",
        "            for utt in conv[\"utterances\"]:\n",
        "                speaker = utt[\"speaker\"].strip().lower()\n",
        "                if speaker == \"assistant\":\n",
        "                    role = \"assistant\"\n",
        "                elif speaker == \"user\":\n",
        "                    role = \"user\"\n",
        "                else:\n",
        "                    continue  # skip unknown roles\n",
        "\n",
        "                messages.append({\n",
        "                    \"role\": role,\n",
        "                    \"content\": utt[\"text\"].strip()\n",
        "                })\n",
        "\n",
        "            if len(messages) > 1:  # avoid writing empty or system-only dialogs\n",
        "                fout.write(json.dumps({\"messages\": messages}, ensure_ascii=False) + \"\\n\")\n",
        "\n",
        "# === How to use ===\n",
        "\n",
        "convert_to_chatformat(\n",
        "    input_path=\"/content/Taskmaster/TM-2-2020/data/movies.json\",\n",
        "    output_path=\"chat_ready_data.jsonl\",\n",
        "    system_prompt=\"You are a helpful assistant.\"  # Or leave out for no system prompt\n",
        ")\n"
      ],
      "metadata": {
        "id": "A1F02AZObv0k"
      },
      "execution_count": null,
      "outputs": []
    },
    {
      "cell_type": "code",
      "source": [],
      "metadata": {
        "id": "3VUHfyu8QCM8"
      },
      "execution_count": null,
      "outputs": []
    }
  ]
}